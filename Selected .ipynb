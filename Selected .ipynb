{
  "nbformat": 4,
  "nbformat_minor": 0,
  "metadata": {
    "colab": {
      "name": "Untitled14.ipynb",
      "provenance": [],
      "collapsed_sections": []
    },
    "kernelspec": {
      "name": "python3",
      "display_name": "Python 3"
    },
    "language_info": {
      "name": "python"
    },
    "accelerator": "GPU"
  },
  "cells": [
    {
      "cell_type": "code",
      "execution_count": 7,
      "metadata": {
        "id": "oldxZmUF6O_-"
      },
      "outputs": [],
      "source": [
        "from keras.models import Sequential, load_model\n",
        "from keras.layers import Dense, Conv2D, MaxPool2D, Flatten, BatchNormalization, GaussianNoise , Dropout\n",
        "from keras.preprocessing.image import ImageDataGenerator\n",
        "from keras.preprocessing.image import load_img, img_to_array\n",
        "import tensorflow as tf\n",
        "import numpy as np\n"
      ]
    },
    {
      "cell_type": "code",
      "source": [
        "from google.colab import drive\n",
        "drive.mount('/content/drive')"
      ],
      "metadata": {
        "colab": {
          "base_uri": "https://localhost:8080/"
        },
        "id": "FaJ4FS_jvzVq",
        "outputId": "de1299e5-1061-44aa-9074-a38ac8181b2d"
      },
      "execution_count": 2,
      "outputs": [
        {
          "output_type": "stream",
          "name": "stdout",
          "text": [
            "Drive already mounted at /content/drive; to attempt to forcibly remount, call drive.mount(\"/content/drive\", force_remount=True).\n"
          ]
        }
      ]
    },
    {
      "cell_type": "code",
      "source": [
        "#dataset with preprocessing\n",
        "# 1- preprocessing the training set\n",
        "\n",
        "train_data_generation = ImageDataGenerator()\n",
        "training_set = train_data_generation.flow_from_directory('/content/drive/MyDrive/AD/Alzheimer_s Dataset/train',\n",
        "                                                         target_size=(224, 224))\n"
      ],
      "metadata": {
        "colab": {
          "base_uri": "https://localhost:8080/"
        },
        "id": "y5eE59G26VpL",
        "outputId": "502d4cab-0b66-4d7e-fc14-7854be7b6cb5"
      },
      "execution_count": 3,
      "outputs": [
        {
          "output_type": "stream",
          "name": "stdout",
          "text": [
            "Found 5121 images belonging to 4 classes.\n"
          ]
        }
      ]
    },
    {
      "cell_type": "code",
      "source": [
        "label_map_training_set = (training_set.class_indices)\n",
        "print(label_map_training_set)"
      ],
      "metadata": {
        "colab": {
          "base_uri": "https://localhost:8080/"
        },
        "id": "X4ma1HdrVFeD",
        "outputId": "39b513fc-03f4-45cf-9a52-45b5c7f8e516"
      },
      "execution_count": 4,
      "outputs": [
        {
          "output_type": "stream",
          "name": "stdout",
          "text": [
            "{'MildDemented': 0, 'ModerateDemented': 1, 'NonDemented': 2, 'VeryMildDemented': 3}\n"
          ]
        }
      ]
    },
    {
      "cell_type": "code",
      "source": [
        "# 1- preprocessing the testing set\n",
        "test_data_generation = ImageDataGenerator()\n",
        "testing_set = test_data_generation.flow_from_directory('/content/drive/MyDrive/AD/Alzheimer_s Dataset/test',\n",
        "                                                       target_size=(224, 224))\n",
        "\n"
      ],
      "metadata": {
        "colab": {
          "base_uri": "https://localhost:8080/"
        },
        "id": "xLuQEUHT6iiw",
        "outputId": "c3325f46-4c72-495c-bebe-32ef98b98be2"
      },
      "execution_count": 5,
      "outputs": [
        {
          "output_type": "stream",
          "name": "stdout",
          "text": [
            "Found 1279 images belonging to 4 classes.\n"
          ]
        }
      ]
    },
    {
      "cell_type": "code",
      "source": [
        "label_map_testing_set = (testing_set.class_indices)\n",
        "print(label_map_testing_set)"
      ],
      "metadata": {
        "colab": {
          "base_uri": "https://localhost:8080/"
        },
        "id": "A9r3qtdyZOG3",
        "outputId": "37ea7630-df45-4ba2-a8fb-8853937316e3"
      },
      "execution_count": 6,
      "outputs": [
        {
          "output_type": "stream",
          "name": "stdout",
          "text": [
            "{'MildDemented': 0, 'ModerateDemented': 1, 'NonDemented': 2, 'VeryMildDemented': 3}\n"
          ]
        }
      ]
    },
    {
      "cell_type": "code",
      "source": [
        "\n",
        "model = Sequential([\n",
        "\n",
        "    # adding the 1 layer\n",
        "    Conv2D(filters=64, kernel_size=3, activation='relu', input_shape=[224, 224, 3]),\n",
        "    BatchNormalization(),\n",
        "    \n",
        "    # adding the 2 layer\n",
        "    Conv2D(filters=64, kernel_size=3, activation='relu'),\n",
        "    MaxPool2D(pool_size=2, strides=2),\n",
        "\n",
        "    # adding the 3 layer\n",
        "    Conv2D(filters=128, kernel_size=3, activation='relu'),\n",
        "    GaussianNoise(0.01),\n",
        "    BatchNormalization(),\n",
        "    Dropout(0.1),\n",
        "\n",
        "    # adding the 4 layer\n",
        "    Conv2D(filters=128, kernel_size=3, activation='relu'),\n",
        "    MaxPool2D(pool_size=2, strides=2),\n",
        "\n",
        "    # adding the 5 layer\n",
        "    Conv2D(filters=256, kernel_size=3, activation='relu'),\n",
        "    BatchNormalization(),\n",
        "\n",
        "    # adding the 6 layer\n",
        "    Conv2D(filters=256, kernel_size=3, activation='relu'),\n",
        "    \n",
        "    # adding the 7 layer\n",
        "    Conv2D(filters=256, kernel_size=3, activation='relu'),\n",
        "    GaussianNoise(0.01),\n",
        "\n",
        "    # adding the 8 layer\n",
        "    Conv2D(filters=256, kernel_size=3, activation='relu'),\n",
        "    MaxPool2D(pool_size=2, strides=2),\n",
        "\n",
        "    # adding the 9 layer\n",
        "    Conv2D(filters=512, kernel_size=3, activation='relu'),\n",
        "    \n",
        "    # adding the 10 layer\n",
        "    Conv2D(filters=512, kernel_size=3, activation='relu'),\n",
        "\n",
        "    # adding the 11 layer\n",
        "    Conv2D(filters=512, kernel_size=3, activation='relu'),\n",
        "    MaxPool2D(pool_size=2, strides=2),\n",
        "    Dropout(0.1),\n",
        "\n",
        "    # adding the 12 layer\n",
        "    Conv2D(filters=512, kernel_size=3, activation='relu'),\n",
        "    GaussianNoise(0.01),\n",
        "\n",
        "    # adding the 13 layer\n",
        "    Conv2D(filters=512, kernel_size=3, activation='relu'),\n",
        "    \n",
        "    # adding the 14 layer\n",
        "    Conv2D(filters=512, kernel_size=3, activation='relu'),\n",
        "    MaxPool2D(pool_size=2, strides=2),\n",
        "    Dropout(0.1),\n",
        "\n",
        "    # adding the 15 layer\n",
        "    Flatten(),\n",
        "\n",
        "    # adding the 16 layer\n",
        "    Flatten(),\n",
        "\n",
        "    # adding the 17 layer\n",
        "    # Concatenait .............\n",
        "\n",
        "    # adding the 18 layer\n",
        "    Dense(units=256, activation='relu'),\n",
        "\n",
        "    # adding the 19 layer\n",
        "    Dense(units=256, activation='relu'),\n",
        "\n",
        "\n",
        "    # adding the 20 layer\n",
        "    # output layer\n",
        "    Dense(units=4, activation='softmax')\n",
        "\n",
        "])\n"
      ],
      "metadata": {
        "id": "R5xi6BML6klb",
        "colab": {
          "base_uri": "https://localhost:8080/",
          "height": 240
        },
        "outputId": "6467d4dc-ddc2-4c43-e029-641a6f7c965a"
      },
    {
      "cell_type": "code",
      "source": [
        "\n",
        "# let's look at the structure of the model we just created\n",
        "print(model.summary())\n"
      ],
      "metadata": {
        "colab": {
          "base_uri": "https://localhost:8080/"
        },
        "id": "GT7hoFKp6mkV",
        "outputId": "a9553a8a-0d6b-45b0-a687-1cabef6f8720"
      },
      "execution_count": 9,
      "outputs": [
        {
          "output_type": "stream",
          "name": "stdout",
          "text": [
            "Model: \"sequential\"\n",
            "_________________________________________________________________\n",
            " Layer (type)                Output Shape              Param #   \n",
            "=================================================================\n",
            " conv2d (Conv2D)             (None, 222, 222, 64)      1792      \n",
            "                                                                 \n",
            " batch_normalization (BatchN  (None, 222, 222, 64)     256       \n",
            " ormalization)                                                   \n",
            "                                                                 \n",
            " conv2d_1 (Conv2D)           (None, 220, 220, 64)      36928     \n",
            "                                                                 \n",
            " max_pooling2d (MaxPooling2D  (None, 110, 110, 64)     0         \n",
            " )                                                               \n",
            "                                                                 \n",
            " conv2d_2 (Conv2D)           (None, 108, 108, 128)     73856     \n",
            "                                                                 \n",
            " gaussian_noise (GaussianNoi  (None, 108, 108, 128)    0         \n",
            " se)                                                             \n",
            "                                                                 \n",
            " batch_normalization_1 (Batc  (None, 108, 108, 128)    512       \n",
            " hNormalization)                                                 \n",
            "                                                                 \n",
            " dropout (Dropout)           (None, 108, 108, 128)     0         \n",
            "                                                                 \n",
            " conv2d_3 (Conv2D)           (None, 106, 106, 128)     147584    \n",
            "                                                                 \n",
            " max_pooling2d_1 (MaxPooling  (None, 53, 53, 128)      0         \n",
            " 2D)                                                             \n",
            "                                                                 \n",
            " conv2d_4 (Conv2D)           (None, 51, 51, 256)       295168    \n",
            "                                                                 \n",
            " batch_normalization_2 (Batc  (None, 51, 51, 256)      1024      \n",
            " hNormalization)                                                 \n",
            "                                                                 \n",
            " conv2d_5 (Conv2D)           (None, 49, 49, 256)       590080    \n",
            "                                                                 \n",
            " conv2d_6 (Conv2D)           (None, 47, 47, 256)       590080    \n",
            "                                                                 \n",
            " gaussian_noise_1 (GaussianN  (None, 47, 47, 256)      0         \n",
            " oise)                                                           \n",
            "                                                                 \n",
            " conv2d_7 (Conv2D)           (None, 45, 45, 256)       590080    \n",
            "                                                                 \n",
            " max_pooling2d_2 (MaxPooling  (None, 22, 22, 256)      0         \n",
            " 2D)                                                             \n",
            "                                                                 \n",
            " conv2d_8 (Conv2D)           (None, 20, 20, 512)       1180160   \n",
            "                                                                 \n",
            " conv2d_9 (Conv2D)           (None, 18, 18, 512)       2359808   \n",
            "                                                                 \n",
            " conv2d_10 (Conv2D)          (None, 16, 16, 512)       2359808   \n",
            "                                                                 \n",
            " max_pooling2d_3 (MaxPooling  (None, 8, 8, 512)        0         \n",
            " 2D)                                                             \n",
            "                                                                 \n",
            " dropout_1 (Dropout)         (None, 8, 8, 512)         0         \n",
            "                                                                 \n",
            " conv2d_11 (Conv2D)          (None, 6, 6, 512)         2359808   \n",
            "                                                                 \n",
            " gaussian_noise_2 (GaussianN  (None, 6, 6, 512)        0         \n",
            " oise)                                                           \n",
            "                                                                 \n",
            " conv2d_12 (Conv2D)          (None, 4, 4, 512)         2359808   \n",
            "                                                                 \n",
            " conv2d_13 (Conv2D)          (None, 2, 2, 512)         2359808   \n",
            "                                                                 \n",
            " max_pooling2d_4 (MaxPooling  (None, 1, 1, 512)        0         \n",
            " 2D)                                                             \n",
            "                                                                 \n",
            " dropout_2 (Dropout)         (None, 1, 1, 512)         0         \n",
            "                                                                 \n",
            " flatten (Flatten)           (None, 512)               0         \n",
            "                                                                 \n",
            " flatten_1 (Flatten)         (None, 512)               0         \n",
            "                                                                 \n",
            " dense (Dense)               (None, 256)               131328    \n",
            "                                                                 \n",
            " dense_1 (Dense)             (None, 256)               65792     \n",
            "                                                                 \n",
            " dense_2 (Dense)             (None, 4)                 1028      \n",
            "                                                                 \n",
            "=================================================================\n",
            "Total params: 15,504,708\n",
            "Trainable params: 15,503,812\n",
            "Non-trainable params: 896\n",
            "_________________________________________________________________\n",
            "None\n"
          ]
        }
      ]
    },
    {
      "cell_type": "code",
      "source": [
        "# compiling the model\n",
        "model.compile(optimizer=tf.optimizers.Adamax(learning_rate=0.001), loss = tf.losses.CategoricalCrossentropy() , metrics = ['accuracy'])"
      ],
      "metadata": {
        "id": "1oDuJrWd6ovX"
      },
      "execution_count": 10,
      "outputs": []
    },
    {
      "cell_type": "code",
      "source": [
        "#fitting the model\n",
        "model.fit(x=training_set, validation_data=testing_set, epochs=20)"
      ],
      "metadata": {
        "colab": {
          "base_uri": "https://localhost:8080/"
        },
        "id": "Z3H3xu2r6q3L",
        "outputId": "6f4c3c2f-f571-4598-c8e3-bca2bd10a87a"
      },
      "execution_count": 11,
      "outputs": [
        {
          "output_type": "stream",
          "name": "stdout",
          "text": [
            "Epoch 1/20\n",
            "161/161 [==============================] - 1315s 8s/step - loss: 1.0804 - accuracy: 0.5013 - val_loss: 1.0697 - val_accuracy: 0.5043\n",
            "Epoch 2/20\n",
            "161/161 [==============================] - 69s 428ms/step - loss: 0.9136 - accuracy: 0.5583 - val_loss: 1.0053 - val_accuracy: 0.5489\n",
            "Epoch 3/20\n",
            "161/161 [==============================] - 70s 435ms/step - loss: 0.8761 - accuracy: 0.5772 - val_loss: 1.7415 - val_accuracy: 0.5152\n",
            "Epoch 4/20\n",
            "161/161 [==============================] - 71s 441ms/step - loss: 0.8508 - accuracy: 0.5979 - val_loss: 0.9900 - val_accuracy: 0.5176\n",
            "Epoch 5/20\n",
            "161/161 [==============================] - 72s 445ms/step - loss: 0.7990 - accuracy: 0.6163 - val_loss: 1.0308 - val_accuracy: 0.5841\n",
            "Epoch 6/20\n",
            "161/161 [==============================] - 72s 447ms/step - loss: 0.7501 - accuracy: 0.6399 - val_loss: 1.2208 - val_accuracy: 0.5496\n",
            "Epoch 7/20\n",
            "161/161 [==============================] - 72s 447ms/step - loss: 0.7001 - accuracy: 0.6766 - val_loss: 0.9658 - val_accuracy: 0.5395\n",
            "Epoch 8/20\n",
            "161/161 [==============================] - 72s 447ms/step - loss: 0.6102 - accuracy: 0.7151 - val_loss: 1.2739 - val_accuracy: 0.5895\n",
            "Epoch 9/20\n",
            "161/161 [==============================] - 72s 447ms/step - loss: 0.5624 - accuracy: 0.7536 - val_loss: 1.0602 - val_accuracy: 0.6255\n",
            "Epoch 10/20\n",
            "161/161 [==============================] - 72s 447ms/step - loss: 0.4635 - accuracy: 0.8067 - val_loss: 1.7179 - val_accuracy: 0.5903\n",
            "Epoch 11/20\n",
            "161/161 [==============================] - 72s 447ms/step - loss: 0.3960 - accuracy: 0.8393 - val_loss: 1.5724 - val_accuracy: 0.6302\n",
            "Epoch 12/20\n",
            "161/161 [==============================] - 72s 447ms/step - loss: 0.3278 - accuracy: 0.8713 - val_loss: 1.3439 - val_accuracy: 0.6560\n",
            "Epoch 13/20\n",
            "161/161 [==============================] - 72s 447ms/step - loss: 0.2132 - accuracy: 0.9176 - val_loss: 0.9099 - val_accuracy: 0.6935\n",
            "Epoch 14/20\n",
            "161/161 [==============================] - 72s 447ms/step - loss: 0.1649 - accuracy: 0.9352 - val_loss: 1.3863 - val_accuracy: 0.6810\n",
            "Epoch 15/20\n",
            "161/161 [==============================] - 72s 447ms/step - loss: 0.0980 - accuracy: 0.9658 - val_loss: 0.8624 - val_accuracy: 0.7084\n",
            "Epoch 16/20\n",
            "161/161 [==============================] - 72s 446ms/step - loss: 0.0757 - accuracy: 0.9746 - val_loss: 0.9748 - val_accuracy: 0.6849\n",
            "Epoch 17/20\n",
            "161/161 [==============================] - 72s 447ms/step - loss: 0.0602 - accuracy: 0.9816 - val_loss: 2.5123 - val_accuracy: 0.6489\n",
            "Epoch 18/20\n",
            "161/161 [==============================] - 72s 447ms/step - loss: 0.0707 - accuracy: 0.9758 - val_loss: 2.3698 - val_accuracy: 0.5934\n",
            "Epoch 19/20\n",
            "161/161 [==============================] - 72s 447ms/step - loss: 0.0501 - accuracy: 0.9838 - val_loss: 1.2841 - val_accuracy: 0.6755\n",
            "Epoch 20/20\n",
            "161/161 [==============================] - 72s 447ms/step - loss: 0.0320 - accuracy: 0.9914 - val_loss: 1.2460 - val_accuracy: 0.7162\n"
          ]
        },
        {
          "output_type": "execute_result",
          "data": {
            "text/plain": [
              "<keras.callbacks.History at 0x7fb91c7e7150>"
            ]
          },
          "metadata": {},
          "execution_count": 11
        }
      ]
    },
    {
      "cell_type": "code",
      "source": [
        "#saving the model\n",
        "model.save('/content/drive/MyDrive/AD/Alzheimer_s Dataset/AD123.h5')"
      ],
      "metadata": {
        "id": "Yz_zMYLkTOVk"
      },
      "execution_count": 12,
      "outputs": []
    },
    {
      "cell_type": "code",
      "source": [
        "CATEGORIES = ['MildDemented','ModerateDemented','NonDemented','VeryMildDemented']"
      ],
      "metadata": {
        "id": "34JtLN6zWdM_"
      },
      "execution_count": null,
      "outputs": []
    },
    {
      "cell_type": "code",
      "source": [
        "cnn = load_model('/content/drive/MyDrive/AD/Alzheimer_s Dataset/AD.h5')\n",
        "image = load_img('/content/28 (49).jpg', target_size=(224, 224))\n",
        "image = img_to_array(image)\n",
        "image = np.expand_dims(image, axis=0)\n",
        "result = cnn.predict(image)\n",
        "print(result[0])\n",
        "\n",
        "result = result.argmax(axis=1)[0]\n",
        "print(result)\n",
        "result = CATEGORIES[result]\n",
        "print(result)\n"
      ],
      "metadata": {
        "colab": {
          "base_uri": "https://localhost:8080/"
        },
        "id": "b3qJ97J7TRVX",
        "outputId": "bee45027-50cf-4756-c4eb-ba9445bbfe7a"
      },
      "execution_count": null,
      "outputs": [
        {
          "output_type": "stream",
          "name": "stdout",
          "text": [
            "[1.5451006e-03 1.0897192e-09 5.8749110e-01 4.1096377e-01]\n",
            "2\n",
            "NonDemented\n"
          ]
        }
      ]
    },
    {
      "cell_type": "code",
      "source": [
        ""
      ],
      "metadata": {
        "id": "kejNHVZ3WN0K"
      },
      "execution_count": null,
      "outputs": []
    },
    {
      "cell_type": "code",
      "source": [
        ""
      ],
      "metadata": {
        "id": "nN8jk229V9Jg"
      },
      "execution_count": null,
      "outputs": []
    }
  ]
}
