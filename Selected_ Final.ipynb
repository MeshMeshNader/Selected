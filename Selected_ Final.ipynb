{
  "nbformat": 4,
  "nbformat_minor": 0,
  "metadata": {
    "colab": {
      "name": "Selected_.ipynb",
      "provenance": [],
      "collapsed_sections": []
    },
    "kernelspec": {
      "name": "python3",
      "display_name": "Python 3"
    },
    "language_info": {
      "name": "python"
    },
    "accelerator": "GPU"
  },
  "cells": [
    {
      "cell_type": "code",
      "execution_count": 1,
      "metadata": {
        "id": "oldxZmUF6O_-"
      },
      "outputs": [],
      "source": [
        "from keras.models import Sequential, load_model\n",
        "from keras.layers import Dense, Conv2D, MaxPool2D, Flatten, BatchNormalization, GaussianNoise , Dropout\n",
        "from keras.preprocessing.image import ImageDataGenerator\n",
        "from keras.preprocessing.image import load_img, img_to_array\n",
        "import tensorflow as tf\n",
        "import numpy as np\n"
      ]
    },
    {
      "cell_type": "code",
      "source": [
        "from google.colab import drive\n",
        "drive.mount('/content/drive')"
      ],
      "metadata": {
        "colab": {
          "base_uri": "https://localhost:8080/"
        },
        "id": "FaJ4FS_jvzVq",
        "outputId": "6533a5b1-1d64-45f7-8736-f9c8a6f6dcff"
      },
      "execution_count": 5,
      "outputs": [
        {
          "output_type": "stream",
          "name": "stdout",
          "text": [
            "Drive already mounted at /content/drive; to attempt to forcibly remount, call drive.mount(\"/content/drive\", force_remount=True).\n"
          ]
        }
      ]
    },
    {
      "cell_type": "code",
      "source": [
        "#dataset with preprocessing\n",
        "# 1- preprocessing the training set\n",
        "\n",
        "train_data_generation = ImageDataGenerator()\n",
        "training_set = train_data_generation.flow_from_directory('/content/drive/MyDrive/Alzheimer_s Dataset/train',\n",
        "                                                         target_size=(224, 224))\n"
      ],
      "metadata": {
        "colab": {
          "base_uri": "https://localhost:8080/"
        },
        "id": "y5eE59G26VpL",
        "outputId": "1e729c77-aafa-41e2-a9ca-be0b2bc26077"
      },
      "execution_count": 6,
      "outputs": [
        {
          "output_type": "stream",
          "name": "stdout",
          "text": [
            "Found 5121 images belonging to 4 classes.\n"
          ]
        }
      ]
    },
    {
      "cell_type": "code",
      "source": [
        "label_map_training_set = (training_set.class_indices)\n",
        "print(label_map_training_set)"
      ],
      "metadata": {
        "colab": {
          "base_uri": "https://localhost:8080/"
        },
        "id": "X4ma1HdrVFeD",
        "outputId": "339c56b7-c873-4ada-809d-46ef6f96f9f1"
      },
      "execution_count": 7,
      "outputs": [
        {
          "output_type": "stream",
          "name": "stdout",
          "text": [
            "{'MildDemented': 0, 'ModerateDemented': 1, 'NonDemented': 2, 'VeryMildDemented': 3}\n"
          ]
        }
      ]
    },
    {
      "cell_type": "code",
      "source": [
        "# 1- preprocessing the testing set\n",
        "test_data_generation = ImageDataGenerator()\n",
        "testing_set = test_data_generation.flow_from_directory('/content/drive/MyDrive/Alzheimer_s Dataset/test',\n",
        "                                                       target_size=(224, 224))\n",
        "\n"
      ],
      "metadata": {
        "colab": {
          "base_uri": "https://localhost:8080/"
        },
        "id": "xLuQEUHT6iiw",
        "outputId": "90e4b78f-30ce-4342-8b36-216851187112"
      },
      "execution_count": 8,
      "outputs": [
        {
          "output_type": "stream",
          "name": "stdout",
          "text": [
            "Found 1279 images belonging to 4 classes.\n"
          ]
        }
      ]
    },
    {
      "cell_type": "code",
      "source": [
        "label_map_testing_set = (testing_set.class_indices)\n",
        "print(label_map_testing_set)"
      ],
      "metadata": {
        "colab": {
          "base_uri": "https://localhost:8080/"
        },
        "id": "A9r3qtdyZOG3",
        "outputId": "13405691-df3b-479c-fef1-1588acd8c65b"
      },
      "execution_count": 9,
      "outputs": [
        {
          "output_type": "stream",
          "name": "stdout",
          "text": [
            "{'MildDemented': 0, 'ModerateDemented': 1, 'NonDemented': 2, 'VeryMildDemented': 3}\n"
          ]
        }
      ]
    },
    {
      "cell_type": "code",
      "source": [
        "\n",
        "model = Sequential([\n",
        "\n",
        "    # adding the 1 layer\n",
        "    Conv2D(filters=64, kernel_size=3, activation='relu', input_shape=[224, 224, 3]),\n",
        "    BatchNormalization(),\n",
        "    \n",
        "    # adding the 2 layer\n",
        "    Conv2D(filters=64, kernel_size=3, activation='relu'),\n",
        "    MaxPool2D(pool_size=2, strides=2),\n",
        "\n",
        "    # adding the 3 layer\n",
        "    Conv2D(filters=128, kernel_size=3, activation='relu'),\n",
        "    GaussianNoise(0.01),\n",
        "    BatchNormalization(),\n",
        "    Dropout(0.1),\n",
        "\n",
        "    # adding the 4 layer\n",
        "    Conv2D(filters=128, kernel_size=3, activation='relu'),\n",
        "    MaxPool2D(pool_size=2, strides=2),\n",
        "\n",
        "    # adding the 5 layer\n",
        "    Conv2D(filters=256, kernel_size=3, activation='relu'),\n",
        "    BatchNormalization(),\n",
        "\n",
        "    # adding the 6 layer\n",
        "    Conv2D(filters=256, kernel_size=3, activation='relu'),\n",
        "    \n",
        "    # adding the 7 layer\n",
        "    Conv2D(filters=256, kernel_size=3, activation='relu'),\n",
        "    GaussianNoise(0.01),\n",
        "\n",
        "    # adding the 8 layer\n",
        "    Conv2D(filters=256, kernel_size=3, activation='relu'),\n",
        "    MaxPool2D(pool_size=2, strides=2),\n",
        "\n",
        "    # adding the 9 layer\n",
        "    Conv2D(filters=512, kernel_size=3, activation='relu'),\n",
        "    \n",
        "    # adding the 10 layer\n",
        "    Conv2D(filters=512, kernel_size=3, activation='relu'),\n",
        "\n",
        "    # adding the 11 layer\n",
        "    Conv2D(filters=512, kernel_size=3, activation='relu'),\n",
        "    MaxPool2D(pool_size=2, strides=2),\n",
        "    Dropout(0.1),\n",
        "\n",
        "    # adding the 12 layer\n",
        "    Conv2D(filters=512, kernel_size=3, activation='relu'),\n",
        "    GaussianNoise(0.01),\n",
        "\n",
        "    # adding the 13 layer\n",
        "    Conv2D(filters=512, kernel_size=3, activation='relu'),\n",
        "    \n",
        "    # adding the 14 layer\n",
        "    Conv2D(filters=512, kernel_size=3, activation='relu'),\n",
        "    MaxPool2D(pool_size=2, strides=2),\n",
        "    Dropout(0.1),\n",
        "\n",
        "    # adding the 15 layer\n",
        "    Flatten(),\n",
        "\n",
        "    # adding the 16 layer\n",
        "    Flatten(),\n",
        "\n",
        "    # adding the 17 layer\n",
        "    # Concatenait .............\n",
        "\n",
        "    # adding the 18 layer\n",
        "    Dense(units=256, activation='relu'),\n",
        "\n",
        "    # adding the 19 layer\n",
        "    Dense(units=256, activation='relu'),\n",
        "\n",
        "\n",
        "    # adding the 20 layer\n",
        "    # output layer\n",
        "    Dense(units=4, activation='softmax')\n",
        "\n",
        "])\n"
      ],
      "metadata": {
        "id": "R5xi6BML6klb"
      },
      "execution_count": 10,
      "outputs": []
    },
    {
      "cell_type": "code",
      "source": [
        "\n",
        "# let's look at the structure of the model we just created\n",
        "print(model.summary())\n"
      ],
      "metadata": {
        "colab": {
          "base_uri": "https://localhost:8080/"
        },
        "id": "GT7hoFKp6mkV",
        "outputId": "52ccc9ba-443f-4dd1-9252-79899d01d03e"
      },
      "execution_count": 11,
      "outputs": [
        {
          "output_type": "stream",
          "name": "stdout",
          "text": [
            "Model: \"sequential\"\n",
            "_________________________________________________________________\n",
            " Layer (type)                Output Shape              Param #   \n",
            "=================================================================\n",
            " conv2d (Conv2D)             (None, 222, 222, 64)      1792      \n",
            "                                                                 \n",
            " batch_normalization (BatchN  (None, 222, 222, 64)     256       \n",
            " ormalization)                                                   \n",
            "                                                                 \n",
            " conv2d_1 (Conv2D)           (None, 220, 220, 64)      36928     \n",
            "                                                                 \n",
            " max_pooling2d (MaxPooling2D  (None, 110, 110, 64)     0         \n",
            " )                                                               \n",
            "                                                                 \n",
            " conv2d_2 (Conv2D)           (None, 108, 108, 128)     73856     \n",
            "                                                                 \n",
            " gaussian_noise (GaussianNoi  (None, 108, 108, 128)    0         \n",
            " se)                                                             \n",
            "                                                                 \n",
            " batch_normalization_1 (Batc  (None, 108, 108, 128)    512       \n",
            " hNormalization)                                                 \n",
            "                                                                 \n",
            " dropout (Dropout)           (None, 108, 108, 128)     0         \n",
            "                                                                 \n",
            " conv2d_3 (Conv2D)           (None, 106, 106, 128)     147584    \n",
            "                                                                 \n",
            " max_pooling2d_1 (MaxPooling  (None, 53, 53, 128)      0         \n",
            " 2D)                                                             \n",
            "                                                                 \n",
            " conv2d_4 (Conv2D)           (None, 51, 51, 256)       295168    \n",
            "                                                                 \n",
            " batch_normalization_2 (Batc  (None, 51, 51, 256)      1024      \n",
            " hNormalization)                                                 \n",
            "                                                                 \n",
            " conv2d_5 (Conv2D)           (None, 49, 49, 256)       590080    \n",
            "                                                                 \n",
            " conv2d_6 (Conv2D)           (None, 47, 47, 256)       590080    \n",
            "                                                                 \n",
            " gaussian_noise_1 (GaussianN  (None, 47, 47, 256)      0         \n",
            " oise)                                                           \n",
            "                                                                 \n",
            " conv2d_7 (Conv2D)           (None, 45, 45, 256)       590080    \n",
            "                                                                 \n",
            " max_pooling2d_2 (MaxPooling  (None, 22, 22, 256)      0         \n",
            " 2D)                                                             \n",
            "                                                                 \n",
            " conv2d_8 (Conv2D)           (None, 20, 20, 512)       1180160   \n",
            "                                                                 \n",
            " conv2d_9 (Conv2D)           (None, 18, 18, 512)       2359808   \n",
            "                                                                 \n",
            " conv2d_10 (Conv2D)          (None, 16, 16, 512)       2359808   \n",
            "                                                                 \n",
            " max_pooling2d_3 (MaxPooling  (None, 8, 8, 512)        0         \n",
            " 2D)                                                             \n",
            "                                                                 \n",
            " dropout_1 (Dropout)         (None, 8, 8, 512)         0         \n",
            "                                                                 \n",
            " conv2d_11 (Conv2D)          (None, 6, 6, 512)         2359808   \n",
            "                                                                 \n",
            " gaussian_noise_2 (GaussianN  (None, 6, 6, 512)        0         \n",
            " oise)                                                           \n",
            "                                                                 \n",
            " conv2d_12 (Conv2D)          (None, 4, 4, 512)         2359808   \n",
            "                                                                 \n",
            " conv2d_13 (Conv2D)          (None, 2, 2, 512)         2359808   \n",
            "                                                                 \n",
            " max_pooling2d_4 (MaxPooling  (None, 1, 1, 512)        0         \n",
            " 2D)                                                             \n",
            "                                                                 \n",
            " dropout_2 (Dropout)         (None, 1, 1, 512)         0         \n",
            "                                                                 \n",
            " flatten (Flatten)           (None, 512)               0         \n",
            "                                                                 \n",
            " flatten_1 (Flatten)         (None, 512)               0         \n",
            "                                                                 \n",
            " dense (Dense)               (None, 256)               131328    \n",
            "                                                                 \n",
            " dense_1 (Dense)             (None, 256)               65792     \n",
            "                                                                 \n",
            " dense_2 (Dense)             (None, 4)                 1028      \n",
            "                                                                 \n",
            "=================================================================\n",
            "Total params: 15,504,708\n",
            "Trainable params: 15,503,812\n",
            "Non-trainable params: 896\n",
            "_________________________________________________________________\n",
            "None\n"
          ]
        }
      ]
    },
    {
      "cell_type": "code",
      "source": [
        "# compiling the model\n",
        "model.compile(optimizer=tf.optimizers.Adamax(learning_rate=0.001), loss = tf.losses.CategoricalCrossentropy() , metrics = ['accuracy'])"
      ],
      "metadata": {
        "id": "1oDuJrWd6ovX"
      },
      "execution_count": 12,
      "outputs": []
    },
    {
      "cell_type": "code",
      "source": [
        "#fitting the model\n",
        "history = model.fit(x=training_set, validation_data=testing_set, epochs=20)"
      ],
      "metadata": {
        "colab": {
          "base_uri": "https://localhost:8080/"
        },
        "id": "Z3H3xu2r6q3L",
        "outputId": "a2e108bc-23c8-45f1-8c76-1dd3b963896f"
      },
      "execution_count": 14,
      "outputs": [
        {
          "output_type": "stream",
          "name": "stdout",
          "text": [
            "Epoch 1/20\n",
            "161/161 [==============================] - 810s 5s/step - loss: 0.9956 - accuracy: 0.5128 - val_loss: 0.9816 - val_accuracy: 0.5301\n",
            "Epoch 2/20\n",
            "161/161 [==============================] - 70s 436ms/step - loss: 0.9049 - accuracy: 0.5638 - val_loss: 0.8985 - val_accuracy: 0.5457\n",
            "Epoch 3/20\n",
            "161/161 [==============================] - 71s 443ms/step - loss: 0.8599 - accuracy: 0.5950 - val_loss: 0.9147 - val_accuracy: 0.5645\n",
            "Epoch 4/20\n",
            "161/161 [==============================] - 73s 453ms/step - loss: 0.8788 - accuracy: 0.5829 - val_loss: 0.8869 - val_accuracy: 0.5614\n",
            "Epoch 5/20\n",
            "161/161 [==============================] - 73s 453ms/step - loss: 0.7958 - accuracy: 0.6159 - val_loss: 1.2123 - val_accuracy: 0.5606\n",
            "Epoch 6/20\n",
            "161/161 [==============================] - 73s 454ms/step - loss: 0.7459 - accuracy: 0.6493 - val_loss: 0.8970 - val_accuracy: 0.5676\n",
            "Epoch 7/20\n",
            "161/161 [==============================] - 73s 454ms/step - loss: 0.6895 - accuracy: 0.6782 - val_loss: 1.0114 - val_accuracy: 0.5903\n",
            "Epoch 8/20\n",
            "161/161 [==============================] - 73s 455ms/step - loss: 0.6339 - accuracy: 0.7225 - val_loss: 1.0080 - val_accuracy: 0.5981\n",
            "Epoch 9/20\n",
            "161/161 [==============================] - 73s 455ms/step - loss: 0.4806 - accuracy: 0.8010 - val_loss: 1.2407 - val_accuracy: 0.6372\n",
            "Epoch 10/20\n",
            "161/161 [==============================] - 73s 455ms/step - loss: 0.4011 - accuracy: 0.8416 - val_loss: 0.9399 - val_accuracy: 0.6591\n",
            "Epoch 11/20\n",
            "161/161 [==============================] - 73s 455ms/step - loss: 0.2793 - accuracy: 0.8922 - val_loss: 1.7466 - val_accuracy: 0.6177\n",
            "Epoch 12/20\n",
            "161/161 [==============================] - 73s 455ms/step - loss: 0.2117 - accuracy: 0.9180 - val_loss: 1.1695 - val_accuracy: 0.6529\n",
            "Epoch 13/20\n",
            "161/161 [==============================] - 73s 455ms/step - loss: 0.1598 - accuracy: 0.9373 - val_loss: 1.5082 - val_accuracy: 0.6810\n",
            "Epoch 14/20\n",
            "161/161 [==============================] - 73s 454ms/step - loss: 0.1525 - accuracy: 0.9438 - val_loss: 1.1043 - val_accuracy: 0.6536\n",
            "Epoch 15/20\n",
            "161/161 [==============================] - 73s 454ms/step - loss: 0.1297 - accuracy: 0.9529 - val_loss: 2.0193 - val_accuracy: 0.6505\n",
            "Epoch 16/20\n",
            "161/161 [==============================] - 73s 454ms/step - loss: 0.0921 - accuracy: 0.9658 - val_loss: 1.5086 - val_accuracy: 0.6982\n",
            "Epoch 17/20\n",
            "161/161 [==============================] - 73s 454ms/step - loss: 0.0975 - accuracy: 0.9674 - val_loss: 1.4568 - val_accuracy: 0.6802\n",
            "Epoch 18/20\n",
            "161/161 [==============================] - 73s 455ms/step - loss: 0.0620 - accuracy: 0.9797 - val_loss: 1.3215 - val_accuracy: 0.7060\n",
            "Epoch 19/20\n",
            "161/161 [==============================] - 73s 455ms/step - loss: 0.0818 - accuracy: 0.9758 - val_loss: 0.9010 - val_accuracy: 0.7123\n",
            "Epoch 20/20\n",
            "161/161 [==============================] - 73s 455ms/step - loss: 0.0131 - accuracy: 0.9965 - val_loss: 1.2221 - val_accuracy: 0.7271\n"
          ]
        }
      ]
    },
    {
      "cell_type": "code",
      "source": [
        "#saving the model\n",
        "model.save('/content/drive/MyDrive/Alzheimer_s Dataset/ADFINAL.h5')"
      ],
      "metadata": {
        "id": "Yz_zMYLkTOVk"
      },
      "execution_count": 18,
      "outputs": []
    },
    {
      "cell_type": "code",
      "source": [
        "CATEGORIES = ['MildDemented','ModerateDemented','NonDemented','VeryMildDemented']"
      ],
      "metadata": {
        "id": "34JtLN6zWdM_"
      },
      "execution_count": 19,
      "outputs": []
    },
    {
      "cell_type": "code",
      "source": [
        "# Plot the loss and accuracy curves for training and validation \n",
        "import plotly.graph_objs as go\n",
        "import plotly.offline as py\n",
        "val_accuracy = history.history['accuracy']\n",
        "\n",
        "accuracy = []\n",
        "num_of_epochs = []\n",
        "for i in range(1,20):\n",
        "    accuracy.append(round(100*val_accuracy[i],3))\n",
        "    num_of_epochs.append(i)\n",
        "\n",
        "trace1 = go.Scatter(y = accuracy, x = num_of_epochs, mode = \"lines\")\n",
        "data = [trace1]\n",
        "layout = dict(title = 'CNN Accuracy',\n",
        "              autosize=False,\n",
        "              width=1000,\n",
        "              height=800,\n",
        "              yaxis= dict(title= 'Accuracy (%)',gridwidth=2, gridcolor='#bdbdbd'),\n",
        "              xaxis= dict(title= 'Number of Epochs',gridwidth=2, gridcolor='#bdbdbd'),\n",
        "              font=dict(size=14)\n",
        "             )\n",
        "fig = dict(data = data, layout = layout)\n",
        "py.iplot(fig)"
      ],
      "metadata": {
        "id": "kejNHVZ3WN0K",
        "colab": {
          "base_uri": "https://localhost:8080/",
          "height": 817
        },
        "outputId": "158302bf-6ea6-4dae-c114-fdd5b8639d10"
      },
      "execution_count": 28,
      "outputs": [
        {
          "output_type": "display_data",
          "data": {
            "text/html": [
              "<html>\n",
              "<head><meta charset=\"utf-8\" /></head>\n",
              "<body>\n",
              "    <div>            <script src=\"https://cdnjs.cloudflare.com/ajax/libs/mathjax/2.7.5/MathJax.js?config=TeX-AMS-MML_SVG\"></script><script type=\"text/javascript\">if (window.MathJax) {MathJax.Hub.Config({SVG: {font: \"STIX-Web\"}});}</script>                <script type=\"text/javascript\">window.PlotlyConfig = {MathJaxConfig: 'local'};</script>\n",
              "        <script src=\"https://cdn.plot.ly/plotly-2.8.3.min.js\"></script>                <div id=\"2862bb8b-1eda-4131-96b2-91bdc45e55a3\" class=\"plotly-graph-div\" style=\"height:800px; width:1000px;\"></div>            <script type=\"text/javascript\">                                    window.PLOTLYENV=window.PLOTLYENV || {};                                    if (document.getElementById(\"2862bb8b-1eda-4131-96b2-91bdc45e55a3\")) {                    Plotly.newPlot(                        \"2862bb8b-1eda-4131-96b2-91bdc45e55a3\",                        [{\"mode\":\"lines\",\"x\":[1,2,3,4,5,6,7,8,9,10,11,12,13,14,15,16,17,18,19],\"y\":[56.376,59.5,58.289,61.59,64.929,67.819,72.252,80.102,84.163,89.221,91.798,93.732,94.376,95.294,96.583,96.739,97.969,97.579,99.649],\"type\":\"scatter\"}],                        {\"autosize\":false,\"font\":{\"size\":14},\"height\":800,\"template\":{\"data\":{\"barpolar\":[{\"marker\":{\"line\":{\"color\":\"#E5ECF6\",\"width\":0.5},\"pattern\":{\"fillmode\":\"overlay\",\"size\":10,\"solidity\":0.2}},\"type\":\"barpolar\"}],\"bar\":[{\"error_x\":{\"color\":\"#2a3f5f\"},\"error_y\":{\"color\":\"#2a3f5f\"},\"marker\":{\"line\":{\"color\":\"#E5ECF6\",\"width\":0.5},\"pattern\":{\"fillmode\":\"overlay\",\"size\":10,\"solidity\":0.2}},\"type\":\"bar\"}],\"carpet\":[{\"aaxis\":{\"endlinecolor\":\"#2a3f5f\",\"gridcolor\":\"white\",\"linecolor\":\"white\",\"minorgridcolor\":\"white\",\"startlinecolor\":\"#2a3f5f\"},\"baxis\":{\"endlinecolor\":\"#2a3f5f\",\"gridcolor\":\"white\",\"linecolor\":\"white\",\"minorgridcolor\":\"white\",\"startlinecolor\":\"#2a3f5f\"},\"type\":\"carpet\"}],\"choropleth\":[{\"colorbar\":{\"outlinewidth\":0,\"ticks\":\"\"},\"type\":\"choropleth\"}],\"contourcarpet\":[{\"colorbar\":{\"outlinewidth\":0,\"ticks\":\"\"},\"type\":\"contourcarpet\"}],\"contour\":[{\"colorbar\":{\"outlinewidth\":0,\"ticks\":\"\"},\"colorscale\":[[0.0,\"#0d0887\"],[0.1111111111111111,\"#46039f\"],[0.2222222222222222,\"#7201a8\"],[0.3333333333333333,\"#9c179e\"],[0.4444444444444444,\"#bd3786\"],[0.5555555555555556,\"#d8576b\"],[0.6666666666666666,\"#ed7953\"],[0.7777777777777778,\"#fb9f3a\"],[0.8888888888888888,\"#fdca26\"],[1.0,\"#f0f921\"]],\"type\":\"contour\"}],\"heatmapgl\":[{\"colorbar\":{\"outlinewidth\":0,\"ticks\":\"\"},\"colorscale\":[[0.0,\"#0d0887\"],[0.1111111111111111,\"#46039f\"],[0.2222222222222222,\"#7201a8\"],[0.3333333333333333,\"#9c179e\"],[0.4444444444444444,\"#bd3786\"],[0.5555555555555556,\"#d8576b\"],[0.6666666666666666,\"#ed7953\"],[0.7777777777777778,\"#fb9f3a\"],[0.8888888888888888,\"#fdca26\"],[1.0,\"#f0f921\"]],\"type\":\"heatmapgl\"}],\"heatmap\":[{\"colorbar\":{\"outlinewidth\":0,\"ticks\":\"\"},\"colorscale\":[[0.0,\"#0d0887\"],[0.1111111111111111,\"#46039f\"],[0.2222222222222222,\"#7201a8\"],[0.3333333333333333,\"#9c179e\"],[0.4444444444444444,\"#bd3786\"],[0.5555555555555556,\"#d8576b\"],[0.6666666666666666,\"#ed7953\"],[0.7777777777777778,\"#fb9f3a\"],[0.8888888888888888,\"#fdca26\"],[1.0,\"#f0f921\"]],\"type\":\"heatmap\"}],\"histogram2dcontour\":[{\"colorbar\":{\"outlinewidth\":0,\"ticks\":\"\"},\"colorscale\":[[0.0,\"#0d0887\"],[0.1111111111111111,\"#46039f\"],[0.2222222222222222,\"#7201a8\"],[0.3333333333333333,\"#9c179e\"],[0.4444444444444444,\"#bd3786\"],[0.5555555555555556,\"#d8576b\"],[0.6666666666666666,\"#ed7953\"],[0.7777777777777778,\"#fb9f3a\"],[0.8888888888888888,\"#fdca26\"],[1.0,\"#f0f921\"]],\"type\":\"histogram2dcontour\"}],\"histogram2d\":[{\"colorbar\":{\"outlinewidth\":0,\"ticks\":\"\"},\"colorscale\":[[0.0,\"#0d0887\"],[0.1111111111111111,\"#46039f\"],[0.2222222222222222,\"#7201a8\"],[0.3333333333333333,\"#9c179e\"],[0.4444444444444444,\"#bd3786\"],[0.5555555555555556,\"#d8576b\"],[0.6666666666666666,\"#ed7953\"],[0.7777777777777778,\"#fb9f3a\"],[0.8888888888888888,\"#fdca26\"],[1.0,\"#f0f921\"]],\"type\":\"histogram2d\"}],\"histogram\":[{\"marker\":{\"pattern\":{\"fillmode\":\"overlay\",\"size\":10,\"solidity\":0.2}},\"type\":\"histogram\"}],\"mesh3d\":[{\"colorbar\":{\"outlinewidth\":0,\"ticks\":\"\"},\"type\":\"mesh3d\"}],\"parcoords\":[{\"line\":{\"colorbar\":{\"outlinewidth\":0,\"ticks\":\"\"}},\"type\":\"parcoords\"}],\"pie\":[{\"automargin\":true,\"type\":\"pie\"}],\"scatter3d\":[{\"line\":{\"colorbar\":{\"outlinewidth\":0,\"ticks\":\"\"}},\"marker\":{\"colorbar\":{\"outlinewidth\":0,\"ticks\":\"\"}},\"type\":\"scatter3d\"}],\"scattercarpet\":[{\"marker\":{\"colorbar\":{\"outlinewidth\":0,\"ticks\":\"\"}},\"type\":\"scattercarpet\"}],\"scattergeo\":[{\"marker\":{\"colorbar\":{\"outlinewidth\":0,\"ticks\":\"\"}},\"type\":\"scattergeo\"}],\"scattergl\":[{\"marker\":{\"colorbar\":{\"outlinewidth\":0,\"ticks\":\"\"}},\"type\":\"scattergl\"}],\"scattermapbox\":[{\"marker\":{\"colorbar\":{\"outlinewidth\":0,\"ticks\":\"\"}},\"type\":\"scattermapbox\"}],\"scatterpolargl\":[{\"marker\":{\"colorbar\":{\"outlinewidth\":0,\"ticks\":\"\"}},\"type\":\"scatterpolargl\"}],\"scatterpolar\":[{\"marker\":{\"colorbar\":{\"outlinewidth\":0,\"ticks\":\"\"}},\"type\":\"scatterpolar\"}],\"scatter\":[{\"marker\":{\"colorbar\":{\"outlinewidth\":0,\"ticks\":\"\"}},\"type\":\"scatter\"}],\"scatterternary\":[{\"marker\":{\"colorbar\":{\"outlinewidth\":0,\"ticks\":\"\"}},\"type\":\"scatterternary\"}],\"surface\":[{\"colorbar\":{\"outlinewidth\":0,\"ticks\":\"\"},\"colorscale\":[[0.0,\"#0d0887\"],[0.1111111111111111,\"#46039f\"],[0.2222222222222222,\"#7201a8\"],[0.3333333333333333,\"#9c179e\"],[0.4444444444444444,\"#bd3786\"],[0.5555555555555556,\"#d8576b\"],[0.6666666666666666,\"#ed7953\"],[0.7777777777777778,\"#fb9f3a\"],[0.8888888888888888,\"#fdca26\"],[1.0,\"#f0f921\"]],\"type\":\"surface\"}],\"table\":[{\"cells\":{\"fill\":{\"color\":\"#EBF0F8\"},\"line\":{\"color\":\"white\"}},\"header\":{\"fill\":{\"color\":\"#C8D4E3\"},\"line\":{\"color\":\"white\"}},\"type\":\"table\"}]},\"layout\":{\"annotationdefaults\":{\"arrowcolor\":\"#2a3f5f\",\"arrowhead\":0,\"arrowwidth\":1},\"autotypenumbers\":\"strict\",\"coloraxis\":{\"colorbar\":{\"outlinewidth\":0,\"ticks\":\"\"}},\"colorscale\":{\"diverging\":[[0,\"#8e0152\"],[0.1,\"#c51b7d\"],[0.2,\"#de77ae\"],[0.3,\"#f1b6da\"],[0.4,\"#fde0ef\"],[0.5,\"#f7f7f7\"],[0.6,\"#e6f5d0\"],[0.7,\"#b8e186\"],[0.8,\"#7fbc41\"],[0.9,\"#4d9221\"],[1,\"#276419\"]],\"sequential\":[[0.0,\"#0d0887\"],[0.1111111111111111,\"#46039f\"],[0.2222222222222222,\"#7201a8\"],[0.3333333333333333,\"#9c179e\"],[0.4444444444444444,\"#bd3786\"],[0.5555555555555556,\"#d8576b\"],[0.6666666666666666,\"#ed7953\"],[0.7777777777777778,\"#fb9f3a\"],[0.8888888888888888,\"#fdca26\"],[1.0,\"#f0f921\"]],\"sequentialminus\":[[0.0,\"#0d0887\"],[0.1111111111111111,\"#46039f\"],[0.2222222222222222,\"#7201a8\"],[0.3333333333333333,\"#9c179e\"],[0.4444444444444444,\"#bd3786\"],[0.5555555555555556,\"#d8576b\"],[0.6666666666666666,\"#ed7953\"],[0.7777777777777778,\"#fb9f3a\"],[0.8888888888888888,\"#fdca26\"],[1.0,\"#f0f921\"]]},\"colorway\":[\"#636efa\",\"#EF553B\",\"#00cc96\",\"#ab63fa\",\"#FFA15A\",\"#19d3f3\",\"#FF6692\",\"#B6E880\",\"#FF97FF\",\"#FECB52\"],\"font\":{\"color\":\"#2a3f5f\"},\"geo\":{\"bgcolor\":\"white\",\"lakecolor\":\"white\",\"landcolor\":\"#E5ECF6\",\"showlakes\":true,\"showland\":true,\"subunitcolor\":\"white\"},\"hoverlabel\":{\"align\":\"left\"},\"hovermode\":\"closest\",\"mapbox\":{\"style\":\"light\"},\"paper_bgcolor\":\"white\",\"plot_bgcolor\":\"#E5ECF6\",\"polar\":{\"angularaxis\":{\"gridcolor\":\"white\",\"linecolor\":\"white\",\"ticks\":\"\"},\"bgcolor\":\"#E5ECF6\",\"radialaxis\":{\"gridcolor\":\"white\",\"linecolor\":\"white\",\"ticks\":\"\"}},\"scene\":{\"xaxis\":{\"backgroundcolor\":\"#E5ECF6\",\"gridcolor\":\"white\",\"gridwidth\":2,\"linecolor\":\"white\",\"showbackground\":true,\"ticks\":\"\",\"zerolinecolor\":\"white\"},\"yaxis\":{\"backgroundcolor\":\"#E5ECF6\",\"gridcolor\":\"white\",\"gridwidth\":2,\"linecolor\":\"white\",\"showbackground\":true,\"ticks\":\"\",\"zerolinecolor\":\"white\"},\"zaxis\":{\"backgroundcolor\":\"#E5ECF6\",\"gridcolor\":\"white\",\"gridwidth\":2,\"linecolor\":\"white\",\"showbackground\":true,\"ticks\":\"\",\"zerolinecolor\":\"white\"}},\"shapedefaults\":{\"line\":{\"color\":\"#2a3f5f\"}},\"ternary\":{\"aaxis\":{\"gridcolor\":\"white\",\"linecolor\":\"white\",\"ticks\":\"\"},\"baxis\":{\"gridcolor\":\"white\",\"linecolor\":\"white\",\"ticks\":\"\"},\"bgcolor\":\"#E5ECF6\",\"caxis\":{\"gridcolor\":\"white\",\"linecolor\":\"white\",\"ticks\":\"\"}},\"title\":{\"x\":0.05},\"xaxis\":{\"automargin\":true,\"gridcolor\":\"white\",\"linecolor\":\"white\",\"ticks\":\"\",\"title\":{\"standoff\":15},\"zerolinecolor\":\"white\",\"zerolinewidth\":2},\"yaxis\":{\"automargin\":true,\"gridcolor\":\"white\",\"linecolor\":\"white\",\"ticks\":\"\",\"title\":{\"standoff\":15},\"zerolinecolor\":\"white\",\"zerolinewidth\":2}}},\"title\":{\"text\":\"CNN Accuracy\"},\"width\":1000,\"xaxis\":{\"gridcolor\":\"#bdbdbd\",\"gridwidth\":2,\"title\":{\"text\":\"Number of Epochs\"}},\"yaxis\":{\"gridcolor\":\"#bdbdbd\",\"gridwidth\":2,\"title\":{\"text\":\"Accuracy (%)\"}}},                        {\"responsive\": true}                    ).then(function(){\n",
              "                            \n",
              "var gd = document.getElementById('2862bb8b-1eda-4131-96b2-91bdc45e55a3');\n",
              "var x = new MutationObserver(function (mutations, observer) {{\n",
              "        var display = window.getComputedStyle(gd).display;\n",
              "        if (!display || display === 'none') {{\n",
              "            console.log([gd, 'removed!']);\n",
              "            Plotly.purge(gd);\n",
              "            observer.disconnect();\n",
              "        }}\n",
              "}});\n",
              "\n",
              "// Listen for the removal of the full notebook cells\n",
              "var notebookContainer = gd.closest('#notebook-container');\n",
              "if (notebookContainer) {{\n",
              "    x.observe(notebookContainer, {childList: true});\n",
              "}}\n",
              "\n",
              "// Listen for the clearing of the current output cell\n",
              "var outputEl = gd.closest('.output');\n",
              "if (outputEl) {{\n",
              "    x.observe(outputEl, {childList: true});\n",
              "}}\n",
              "\n",
              "                        })                };                            </script>        </div>\n",
              "</body>\n",
              "</html>"
            ]
          },
          "metadata": {}
        }
      ]
    },
    {
      "cell_type": "code",
      "source": [
        "import keras\n",
        "from matplotlib import pyplot as plt\n",
        "plt.plot(history.history['accuracy'])\n",
        "plt.plot(history.history['val_accuracy'])\n",
        "plt.title('model accuracy')\n",
        "plt.ylabel('accuracy')\n",
        "plt.xlabel('epoch')\n",
        "plt.legend(['train', 'val'], loc='upper left')\n",
        "plt.show()"
      ],
      "metadata": {
        "id": "nN8jk229V9Jg",
        "colab": {
          "base_uri": "https://localhost:8080/",
          "height": 295
        },
        "outputId": "9aedf8e7-4818-464d-8f5b-9adb7e1c3de0"
      },
      "execution_count": 22,
      "outputs": [
        {
          "output_type": "display_data",
          "data": {
            "text/plain": [
              "<Figure size 432x288 with 1 Axes>"
            ],
            "image/png": "[encoded data removed]"
          },
          "metadata": {
            "needs_background": "light"
          }
        }
      ]
    },
    {
      "cell_type": "code",
      "source": [
        "plt.plot(history.history['loss'])\n",
        "plt.plot(history.history['val_loss'])\n",
        "plt.title('model loss')\n",
        "plt.ylabel('loss')\n",
        "plt.xlabel('epoch')\n",
        "plt.legend(['train', 'val'], loc='upper left')\n",
        "plt.show()"
      ],
      "metadata": {
        "colab": {
          "base_uri": "https://localhost:8080/",
          "height": 295
        },
        "id": "en5zPS5BfGXD",
        "outputId": "e8f58797-ee04-4532-fd02-3cf333c53a16"
      },
      "execution_count": 23,
      "outputs": [
        {
          "output_type": "display_data",
          "data": {
            "text/plain": [
              "<Figure size 432x288 with 1 Axes>"
            ],
            "image/png": "[encoded data removed]"
          },
          "metadata": {
            "needs_background": "light"
          }
        }
      ]
    },
    {
      "cell_type": "code",
      "source": [
        "cnn = load_model('/content/drive/MyDrive/Alzheimer_s Dataset/ADFINAL.h5')\n",
        "image = load_img('/content/26 (69).jpg', target_size=(224, 224))\n",
        "image = img_to_array(image)\n",
        "image = np.expand_dims(image, axis=0)\n",
        "result = cnn.predict(image)\n",
        "print(result[0])\n",
        "\n",
        "result = result.argmax(axis=1)[0]\n",
        "print(result)\n",
        "result = CATEGORIES[result]\n",
        "print(result)\n"
      ],
      "metadata": {
        "colab": {
          "base_uri": "https://localhost:8080/"
        },
        "id": "b3qJ97J7TRVX",
        "outputId": "8b3067f6-9aaf-4710-9919-9616ce91027c"
      },
      "execution_count": 30,
      "outputs": [
        {
          "output_type": "stream",
          "name": "stdout",
          "text": [
            "[2.2878515e-04 2.1995882e-06 9.9171597e-01 8.0530867e-03]\n",
            "2\n",
            "NonDemented\n"
          ]
        }
      ]
    }
  ]
}